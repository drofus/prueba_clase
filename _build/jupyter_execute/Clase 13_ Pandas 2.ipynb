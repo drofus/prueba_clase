{
 "cells": [
  {
   "cell_type": "markdown",
   "metadata": {
    "id": "EKyhMbr3noAD"
   },
   "source": [
    "\n",
    "## **Sesión 13: Análisis exploratorio de datos con PANDAS y NUMPY**"
   ]
  },
  {
   "cell_type": "code",
   "execution_count": 1,
   "metadata": {
    "executionInfo": {
     "elapsed": 795,
     "status": "ok",
     "timestamp": 1723216373869,
     "user": {
      "displayName": "FABIO ANDRES CARDONA JARAMILLO",
      "userId": "04011545580369686184"
     },
     "user_tz": 300
    },
    "id": "NzByZHBM6kai"
   },
   "outputs": [],
   "source": [
    "import numpy as np\n",
    "import pandas as pd\n",
    "import matplotlib.pyplot as plt\n",
    "plt.style.use(\"ggplot\")"
   ]
  },
  {
   "cell_type": "markdown",
   "metadata": {
    "id": "K5Zi-uaPp1w2"
   },
   "source": [
    "Esta clase será trabajada mediante la respuesta a algunos ejercicios planteados a continuación. Para ello, trabajaremos con un conjunto de datos que podemos cargar ejecutando las siguientes líneas de código."
   ]
  },
  {
   "cell_type": "code",
   "execution_count": 2,
   "metadata": {
    "colab": {
     "base_uri": "https://localhost:8080/",
     "height": 441
    },
    "executionInfo": {
     "elapsed": 3125,
     "status": "ok",
     "timestamp": 1723216458856,
     "user": {
      "displayName": "FABIO ANDRES CARDONA JARAMILLO",
      "userId": "04011545580369686184"
     },
     "user_tz": 300
    },
    "id": "NtZlg5ygj1Ea",
    "outputId": "690f99e4-200f-43ce-eda3-0cb5fa64ab86"
   },
   "outputs": [
    {
     "data": {
      "text/html": [
       "<div>\n",
       "<style scoped>\n",
       "    .dataframe tbody tr th:only-of-type {\n",
       "        vertical-align: middle;\n",
       "    }\n",
       "\n",
       "    .dataframe tbody tr th {\n",
       "        vertical-align: top;\n",
       "    }\n",
       "\n",
       "    .dataframe thead th {\n",
       "        text-align: right;\n",
       "    }\n",
       "</style>\n",
       "<table border=\"1\" class=\"dataframe\">\n",
       "  <thead>\n",
       "    <tr style=\"text-align: right;\">\n",
       "      <th></th>\n",
       "      <th>especie</th>\n",
       "      <th>isla</th>\n",
       "      <th>longitud_pico (mm)</th>\n",
       "      <th>profundidad_pico (mm)</th>\n",
       "      <th>longitud_aleta (mm)</th>\n",
       "      <th>masa_corporal (g)</th>\n",
       "      <th>genero</th>\n",
       "    </tr>\n",
       "  </thead>\n",
       "  <tbody>\n",
       "    <tr>\n",
       "      <th>0</th>\n",
       "      <td>Adelie</td>\n",
       "      <td>Torgersen</td>\n",
       "      <td>39.1</td>\n",
       "      <td>18.7</td>\n",
       "      <td>181.0</td>\n",
       "      <td>3750.0</td>\n",
       "      <td>Male</td>\n",
       "    </tr>\n",
       "    <tr>\n",
       "      <th>1</th>\n",
       "      <td>Adelie</td>\n",
       "      <td>Torgersen</td>\n",
       "      <td>39.5</td>\n",
       "      <td>17.4</td>\n",
       "      <td>186.0</td>\n",
       "      <td>3800.0</td>\n",
       "      <td>Female</td>\n",
       "    </tr>\n",
       "    <tr>\n",
       "      <th>2</th>\n",
       "      <td>Adelie</td>\n",
       "      <td>Torgersen</td>\n",
       "      <td>40.3</td>\n",
       "      <td>18.0</td>\n",
       "      <td>195.0</td>\n",
       "      <td>3250.0</td>\n",
       "      <td>Female</td>\n",
       "    </tr>\n",
       "    <tr>\n",
       "      <th>3</th>\n",
       "      <td>Adelie</td>\n",
       "      <td>Torgersen</td>\n",
       "      <td>36.7</td>\n",
       "      <td>19.3</td>\n",
       "      <td>193.0</td>\n",
       "      <td>3450.0</td>\n",
       "      <td>Female</td>\n",
       "    </tr>\n",
       "    <tr>\n",
       "      <th>4</th>\n",
       "      <td>Adelie</td>\n",
       "      <td>Torgersen</td>\n",
       "      <td>39.3</td>\n",
       "      <td>20.6</td>\n",
       "      <td>190.0</td>\n",
       "      <td>3650.0</td>\n",
       "      <td>Male</td>\n",
       "    </tr>\n",
       "    <tr>\n",
       "      <th>...</th>\n",
       "      <td>...</td>\n",
       "      <td>...</td>\n",
       "      <td>...</td>\n",
       "      <td>...</td>\n",
       "      <td>...</td>\n",
       "      <td>...</td>\n",
       "      <td>...</td>\n",
       "    </tr>\n",
       "    <tr>\n",
       "      <th>328</th>\n",
       "      <td>Gentoo</td>\n",
       "      <td>Biscoe</td>\n",
       "      <td>47.2</td>\n",
       "      <td>13.7</td>\n",
       "      <td>214.0</td>\n",
       "      <td>4925.0</td>\n",
       "      <td>Female</td>\n",
       "    </tr>\n",
       "    <tr>\n",
       "      <th>329</th>\n",
       "      <td>Gentoo</td>\n",
       "      <td>Biscoe</td>\n",
       "      <td>46.8</td>\n",
       "      <td>14.3</td>\n",
       "      <td>215.0</td>\n",
       "      <td>4850.0</td>\n",
       "      <td>Female</td>\n",
       "    </tr>\n",
       "    <tr>\n",
       "      <th>330</th>\n",
       "      <td>Gentoo</td>\n",
       "      <td>Biscoe</td>\n",
       "      <td>50.4</td>\n",
       "      <td>15.7</td>\n",
       "      <td>222.0</td>\n",
       "      <td>5750.0</td>\n",
       "      <td>Male</td>\n",
       "    </tr>\n",
       "    <tr>\n",
       "      <th>331</th>\n",
       "      <td>Gentoo</td>\n",
       "      <td>Biscoe</td>\n",
       "      <td>45.2</td>\n",
       "      <td>14.8</td>\n",
       "      <td>212.0</td>\n",
       "      <td>5200.0</td>\n",
       "      <td>Female</td>\n",
       "    </tr>\n",
       "    <tr>\n",
       "      <th>332</th>\n",
       "      <td>Gentoo</td>\n",
       "      <td>Biscoe</td>\n",
       "      <td>49.9</td>\n",
       "      <td>16.1</td>\n",
       "      <td>213.0</td>\n",
       "      <td>5400.0</td>\n",
       "      <td>Male</td>\n",
       "    </tr>\n",
       "  </tbody>\n",
       "</table>\n",
       "<p>333 rows × 7 columns</p>\n",
       "</div>"
      ],
      "text/plain": [
       "    especie       isla longitud_pico (mm) profundidad_pico (mm)  \\\n",
       "0    Adelie  Torgersen               39.1                  18.7   \n",
       "1    Adelie  Torgersen               39.5                  17.4   \n",
       "2    Adelie  Torgersen               40.3                  18.0   \n",
       "3    Adelie  Torgersen               36.7                  19.3   \n",
       "4    Adelie  Torgersen               39.3                  20.6   \n",
       "..      ...        ...                ...                   ...   \n",
       "328  Gentoo     Biscoe               47.2                  13.7   \n",
       "329  Gentoo     Biscoe               46.8                  14.3   \n",
       "330  Gentoo     Biscoe               50.4                  15.7   \n",
       "331  Gentoo     Biscoe               45.2                  14.8   \n",
       "332  Gentoo     Biscoe               49.9                  16.1   \n",
       "\n",
       "    longitud_aleta (mm) masa_corporal (g)  genero  \n",
       "0                 181.0            3750.0    Male  \n",
       "1                 186.0            3800.0  Female  \n",
       "2                 195.0            3250.0  Female  \n",
       "3                 193.0            3450.0  Female  \n",
       "4                 190.0            3650.0    Male  \n",
       "..                  ...               ...     ...  \n",
       "328               214.0            4925.0  Female  \n",
       "329               215.0            4850.0  Female  \n",
       "330               222.0            5750.0    Male  \n",
       "331               212.0            5200.0  Female  \n",
       "332               213.0            5400.0    Male  \n",
       "\n",
       "[333 rows x 7 columns]"
      ]
     },
     "execution_count": 2,
     "metadata": {},
     "output_type": "execute_result"
    }
   ],
   "source": [
    "import seaborn as sns\n",
    "\n",
    "data = sns.load_dataset(\"penguins\").dropna().values\n",
    "df = pd.DataFrame(data, columns=[\"especie\", \"isla\", \"longitud_pico (mm)\", \"profundidad_pico (mm)\", \"longitud_aleta (mm)\", \"masa_corporal (g)\", \"genero\"])\n",
    "df"
   ]
  },
  {
   "cell_type": "markdown",
   "metadata": {
    "id": "8JdHJCUjrkq0"
   },
   "source": [
    "Esto cargará un dataframe (df), usando la librería seaborn, con algunas características morfológicas y geográficas de diferentes especies de pingüinos. Las colujmnas contienen los siguientes datos:\n",
    "\n",
    "```\n",
    "[especie, isla, longitud del pico, profundidad del pico, longitud de la aleta, masa corporal, genero]\n",
    "```"
   ]
  },
  {
   "cell_type": "markdown",
   "metadata": {
    "id": "vBGWOQCjwASe"
   },
   "source": [
    "Con estos datos, escriba las líneas de código con las que responda a las siguientes preguntas:"
   ]
  },
  {
   "cell_type": "markdown",
   "metadata": {
    "id": "Q7oQTr79m20E"
   },
   "source": [
    "\n",
    "\n",
    "1.   ¿Cuáles son las profundidades del pico máxima y mínima de los pinguinos de la isla Torgersen?\n",
    "\n",
    "2.    ¿De qué isla, especie y género es el pingüino con la mayor masa corporal?\n",
    "       **Ayuda:** utilice la función `argmax()`\n",
    "\n",
    "3.   ¿Cuál es la masa corporal media de los pinguinos macho que no son de la especie Gentoo?\n",
    "\n",
    "4.   Grafique la distribución de la longitud del pico. Añada el valor medio y la desviación estándar en el título de la figura. **Ayuda:** utilice la funcion `hist()`\n",
    "\n",
    "5.   ¿Cuáles son las islas y especies presentes en el conjunto de datos? ¿Con qué frecuencia aparecen? Grafique la distribución de la masa corporal para los pingüinos.\n",
    "\n",
    "\n",
    "\n",
    "\n",
    "  \n",
    "\n"
   ]
  },
  {
   "cell_type": "markdown",
   "metadata": {
    "id": "_K9Daepp4sgg"
   },
   "source": [
    "1.   ¿Cuáles son las profundidades del pico máxima y mínima de los pinguinos de la isla Torgersen?"
   ]
  },
  {
   "cell_type": "code",
   "execution_count": 3,
   "metadata": {
    "colab": {
     "base_uri": "https://localhost:8080/"
    },
    "executionInfo": {
     "elapsed": 282,
     "status": "ok",
     "timestamp": 1723217180739,
     "user": {
      "displayName": "FABIO ANDRES CARDONA JARAMILLO",
      "userId": "04011545580369686184"
     },
     "user_tz": 300
    },
    "id": "IC9Vx4qj9R9l",
    "outputId": "3606538e-e076-4bb3-a711-65d143488ba6"
   },
   "outputs": [
    {
     "name": "stdout",
     "output_type": "stream",
     "text": [
      "Máxima logitud del pico: 21.5 mm\n",
      "Mínima logitud del pico: 15.9 mm\n"
     ]
    }
   ],
   "source": [
    "#Se crea un nuevo dataframe que contiene solo los valores de df\n",
    "# que cumplen la condicion de contener la cadena \"Torgensen\" en la columna\n",
    "# \"isla\"\n",
    "torgersen = df[df['isla'] == \"Torgersen\"]\n",
    "\n",
    "# Imprime y calcula los valores máximo y mínimo de la columna 'profundidad_pico (mm)'\n",
    "# en el dataframe torgensen.\n",
    "\n",
    "print(\"Máxima logitud del pico:\", torgersen['profundidad_pico (mm)'].max(), 'mm')\n",
    "print(\"Mínima logitud del pico:\", torgersen['profundidad_pico (mm)'].min(), 'mm')"
   ]
  },
  {
   "cell_type": "code",
   "execution_count": 4,
   "metadata": {
    "colab": {
     "base_uri": "https://localhost:8080/"
    },
    "executionInfo": {
     "elapsed": 290,
     "status": "ok",
     "timestamp": 1723217655597,
     "user": {
      "displayName": "FABIO ANDRES CARDONA JARAMILLO",
      "userId": "04011545580369686184"
     },
     "user_tz": 300
    },
    "id": "0TnE4ogNBZwX",
    "outputId": "4035420f-866c-4973-b311-51dae1c5a650"
   },
   "outputs": [
    {
     "name": "stdout",
     "output_type": "stream",
     "text": [
      "Máxima logitud del pico: 21.5 mm\n",
      "Mínima logitud del pico: 15.9 mm\n"
     ]
    }
   ],
   "source": [
    "#Usando el método loc, seleccionamos solo los elementos de la columna  'profundidad_pico (mm)'\n",
    "# que cumplen la consición df.isla == \"Torgersen\". A esos les calculamos el máximo\n",
    "# con .max()\n",
    "\n",
    "#¿Cómo funciona iloc?\n",
    "\n",
    "print(\"Máxima logitud del pico:\", df.loc[df.isla == \"Torgersen\", 'profundidad_pico (mm)'].max(), 'mm')\n",
    "print(\"Mínima logitud del pico:\", df.loc[df.isla == \"Torgersen\", 'profundidad_pico (mm)'].min(), 'mm')"
   ]
  },
  {
   "cell_type": "markdown",
   "metadata": {
    "id": "n7bX3aKT4yN1"
   },
   "source": [
    "2.    ¿De qué isla, especie y género es el pingüino con la mayor masa corporal?\n",
    "       **Ayuda:** utilice la función `argmax()`"
   ]
  },
  {
   "cell_type": "code",
   "execution_count": 5,
   "metadata": {
    "colab": {
     "base_uri": "https://localhost:8080/",
     "height": 178
    },
    "executionInfo": {
     "elapsed": 323,
     "status": "ok",
     "timestamp": 1723172555525,
     "user": {
      "displayName": "FABIO ANDRES CARDONA JARAMILLO",
      "userId": "04011545580369686184"
     },
     "user_tz": 300
    },
    "id": "G8qpYMPRFTB7",
    "outputId": "fb321378-de9d-42d3-c2e4-a9948531331a"
   },
   "outputs": [
    {
     "data": {
      "text/plain": [
       "isla       Biscoe\n",
       "especie    Gentoo\n",
       "genero       Male\n",
       "Name: 231, dtype: object"
      ]
     },
     "execution_count": 5,
     "metadata": {},
     "output_type": "execute_result"
    }
   ],
   "source": [
    "# Usando numpy\n",
    "#busca el índice con el valor máximo del dataframe df, buscando en todos los valores\n",
    "# de la columna masa_corporal (g).\n",
    "id_max = np.argmax(df['masa_corporal (g)'])\n",
    "\n",
    "#con pandas\n",
    "# selecciona el elemento de df con índice id_max, tomando las columnas\n",
    "#  isla, especie y genero\n",
    "df.loc[id_max, ['isla', 'especie', 'genero']]"
   ]
  },
  {
   "cell_type": "markdown",
   "metadata": {
    "id": "FykTTDDUGitF"
   },
   "source": [
    "3. ¿Cuál es la masa corporal media de los pinguinos macho que no son de la especie Gentoo?"
   ]
  },
  {
   "cell_type": "code",
   "execution_count": 6,
   "metadata": {
    "colab": {
     "base_uri": "https://localhost:8080/"
    },
    "executionInfo": {
     "elapsed": 346,
     "status": "ok",
     "timestamp": 1723218175351,
     "user": {
      "displayName": "FABIO ANDRES CARDONA JARAMILLO",
      "userId": "04011545580369686184"
     },
     "user_tz": 300
    },
    "id": "_iDrym3wGtaO",
    "outputId": "ee5925a7-f6a5-48c9-8dc9-5cc347c48aa0"
   },
   "outputs": [
    {
     "data": {
      "text/plain": [
       "4010.2803738317757"
      ]
     },
     "execution_count": 6,
     "metadata": {},
     "output_type": "execute_result"
    }
   ],
   "source": [
    "# pandas\n",
    "\n",
    "df.loc[(df.genero == \"Male\") & (df.especie != \"Gentoo\") , \"masa_corporal (g)\"].mean()"
   ]
  },
  {
   "cell_type": "markdown",
   "metadata": {
    "id": "eTNxn9ykLgl7"
   },
   "source": [
    "4.   Grafique la distribución de la longitud del pico. Calcule el valor medio y la desviación estándar en el título de la figura."
   ]
  },
  {
   "cell_type": "code",
   "execution_count": 7,
   "metadata": {
    "colab": {
     "base_uri": "https://localhost:8080/"
    },
    "executionInfo": {
     "elapsed": 269,
     "status": "ok",
     "timestamp": 1723219043361,
     "user": {
      "displayName": "FABIO ANDRES CARDONA JARAMILLO",
      "userId": "04011545580369686184"
     },
     "user_tz": 300
    },
    "id": "dHqWzcNKLgQO",
    "outputId": "5f516303-7545-4c4b-cb76-e74ef73ba16b"
   },
   "outputs": [
    {
     "name": "stdout",
     "output_type": "stream",
     "text": [
      "Desviación estándar: 5.468668342647559 mm\n",
      "Media: 43.992792792792805 mm\n"
     ]
    }
   ],
   "source": [
    "# Calculemos la desviación estándar.\n",
    "\n",
    "desviacion = df['longitud_pico (mm)'].std()\n",
    "media = df['longitud_pico (mm)'].mean()\n",
    "\n",
    "print(\"Desviación estándar:\", desviacion, 'mm')\n",
    "print(\"Media:\", media, 'mm')"
   ]
  },
  {
   "cell_type": "code",
   "execution_count": 8,
   "metadata": {
    "colab": {
     "base_uri": "https://localhost:8080/",
     "height": 471
    },
    "executionInfo": {
     "elapsed": 965,
     "status": "ok",
     "timestamp": 1723219923373,
     "user": {
      "displayName": "FABIO ANDRES CARDONA JARAMILLO",
      "userId": "04011545580369686184"
     },
     "user_tz": 300
    },
    "id": "5pVINJK8NDfI",
    "outputId": "7eb665d5-e22c-442d-bd7d-9b1d9533c9df"
   },
   "outputs": [
    {
     "data": {
      "text/plain": [
       "<Axes: title={'center': 'Histograma longitud pico (mm) '}, ylabel='Frequency'>"
      ]
     },
     "execution_count": 8,
     "metadata": {},
     "output_type": "execute_result"
    },
    {
     "data": {
      "image/png": "[encoded data removed]",
      "text/plain": [
       "<Figure size 640x480 with 1 Axes>"
      ]
     },
     "metadata": {},
     "output_type": "display_data"
    }
   ],
   "source": [
    "df['longitud_pico (mm)'].plot(kind=\"hist\", bins=40, title= 'Histograma longitud pico (mm) ' )"
   ]
  },
  {
   "cell_type": "markdown",
   "metadata": {
    "id": "NCPfiW4iSpY2"
   },
   "source": [
    "5.   ¿Cuáles son las islas y especies presentes en el conjunto de datos? ¿Con qué frecuencia aparecen? Grafique la distribución de la masa."
   ]
  },
  {
   "cell_type": "code",
   "execution_count": 9,
   "metadata": {
    "colab": {
     "base_uri": "https://localhost:8080/",
     "height": 210
    },
    "executionInfo": {
     "elapsed": 233,
     "status": "ok",
     "timestamp": 1723176037922,
     "user": {
      "displayName": "FABIO ANDRES CARDONA JARAMILLO",
      "userId": "04011545580369686184"
     },
     "user_tz": 300
    },
    "id": "tfr8uqQ5IonA",
    "outputId": "25dc9b18-e26f-422b-b649-30111b157a60"
   },
   "outputs": [
    {
     "data": {
      "text/plain": [
       "isla\n",
       "Biscoe       163\n",
       "Dream        123\n",
       "Torgersen     47\n",
       "Name: count, dtype: int64"
      ]
     },
     "execution_count": 9,
     "metadata": {},
     "output_type": "execute_result"
    }
   ],
   "source": [
    "df.isla.value_counts()"
   ]
  },
  {
   "cell_type": "code",
   "execution_count": 10,
   "metadata": {
    "colab": {
     "base_uri": "https://localhost:8080/",
     "height": 210
    },
    "executionInfo": {
     "elapsed": 266,
     "status": "ok",
     "timestamp": 1723177072272,
     "user": {
      "displayName": "FABIO ANDRES CARDONA JARAMILLO",
      "userId": "04011545580369686184"
     },
     "user_tz": 300
    },
    "id": "3oxXiqcrW1i5",
    "outputId": "7f820929-dd7d-496e-8bf1-c0090e6a69fc"
   },
   "outputs": [
    {
     "data": {
      "text/plain": [
       "isla\n",
       "Biscoe       0.489489\n",
       "Dream        0.369369\n",
       "Torgersen    0.141141\n",
       "Name: proportion, dtype: float64"
      ]
     },
     "execution_count": 10,
     "metadata": {},
     "output_type": "execute_result"
    }
   ],
   "source": [
    "# porcentajes\n",
    "df.isla.value_counts(normalize=True)"
   ]
  },
  {
   "cell_type": "code",
   "execution_count": 11,
   "metadata": {
    "colab": {
     "base_uri": "https://localhost:8080/",
     "height": 447
    },
    "executionInfo": {
     "elapsed": 679,
     "status": "ok",
     "timestamp": 1723177817540,
     "user": {
      "displayName": "FABIO ANDRES CARDONA JARAMILLO",
      "userId": "04011545580369686184"
     },
     "user_tz": 300
    },
    "id": "QNcEL_2oT97L",
    "outputId": "e2ee6181-de19-4e61-ec7b-233157e2aa12"
   },
   "outputs": [
    {
     "data": {
      "text/plain": [
       "<Axes: ylabel='Frequency'>"
      ]
     },
     "execution_count": 11,
     "metadata": {},
     "output_type": "execute_result"
    },
    {
     "data": {
      "image/png": "[encoded data removed]",
      "text/plain": [
       "<Figure size 640x480 with 1 Axes>"
      ]
     },
     "metadata": {},
     "output_type": "display_data"
    }
   ],
   "source": [
    "df['masa_corporal (g)'].plot.hist( bins = 20)"
   ]
  },
  {
   "cell_type": "code",
   "execution_count": null,
   "metadata": {
    "id": "FEmn8mKNIv0_"
   },
   "outputs": [],
   "source": []
  }
 ],
 "metadata": {
  "colab": {
   "authorship_tag": "ABX9TyNdO7qZE+XOXRkMDU9mHysN",
   "provenance": []
  },
  "kernelspec": {
   "display_name": "Python 3",
   "name": "python3"
  },
  "language_info": {
   "codemirror_mode": {
    "name": "ipython",
    "version": 3
   },
   "file_extension": ".py",
   "mimetype": "text/x-python",
   "name": "python",
   "nbconvert_exporter": "python",
   "pygments_lexer": "ipython3",
   "version": "3.11.5"
  }
 },
 "nbformat": 4,
 "nbformat_minor": 0
}